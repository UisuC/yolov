from keras.datasets import mnist
from tensorflow.keras.applications.resnet50 import ResNet50
from keras.models import Model
from keras.layers import Dense, Flatten, Input
import numpy as np

# Load and preprocess MNIST dataset
(x_train, y_train), (x_test, y_test) = mnist.load_data()

x_train = np.stack((x_train,) * 3, axis=-1)
x_test = np.stack((x_test,) * 3, axis=-1)

input_shape = x_train.shape[1:]

x_train = x_train.astype('float32')
x_test = x_test.astype('float32')
x_train /= 255
x_test /= 255

num_classes = 10
y_train = keras.utils.to_categorical(y_train, num_classes)
y_test = keras.utils.to_categorical(y_test, num_classes)

# Load pre-trained ResNet50 model and add new layers for classification
base_model = ResNet50(weights='imagenet', include_top=False)

inputs = Input(shape=input_shape)
x = base_model(inputs)
x = Flatten()(x)
predictions = Dense(num_classes, activation='softmax')(x)

model_resnet50 = Model(inputs=inputs, outputs=predictions)

# Freeze all layers in base model except for last few layers
for layer in base_model.layers[:-5]:
    layer.trainable = False

# Compile model with same optimizer and loss function as code model
model_resnet50.compile(optimizer='adam', loss='categorical_crossentropy', metrics=['accuracy'])

# Train both models on MNIST dataset using same number of epochs and batch size
batch_size = 128
epochs = 10

model_resnet50.fit(
        x_train,
        y_train,
        batch_size=batch_size,
        epochs=epochs,
        validation_data=(x_test,y_test))
